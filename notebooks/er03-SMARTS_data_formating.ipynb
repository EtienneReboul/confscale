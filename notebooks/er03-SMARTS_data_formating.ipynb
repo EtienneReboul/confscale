{
 "cells": [
  {
   "cell_type": "code",
   "execution_count": 1,
   "id": "194cb811",
   "metadata": {},
   "outputs": [],
   "source": [
    "import json\n",
    "from collections import Counter\n",
    "from pathlib import Path\n",
    "\n",
    "import numpy as np\n",
    "import pyarrow as pa\n",
    "import pyarrow.parquet as pq"
   ]
  },
  {
   "cell_type": "code",
   "execution_count": 2,
   "id": "c9c4e2c8",
   "metadata": {},
   "outputs": [],
   "source": [
    "smarts_dirpath = Path(\"../data/raw/torsion_smarts_data\")"
   ]
  },
  {
   "cell_type": "code",
   "execution_count": 3,
   "id": "e473ccd9",
   "metadata": {},
   "outputs": [],
   "source": [
    "datafiles = smarts_dirpath.glob(\"*.txt\")"
   ]
  },
  {
   "cell_type": "code",
   "execution_count": 4,
   "id": "314afda2",
   "metadata": {},
   "outputs": [],
   "source": [
    "def parse_angle_info(data: dict) -> dict:\n",
    "    \"\"\"\n",
    "    Parse the angle information from the data dictionary.\n",
    "    \"\"\"\n",
    "    angle_info = {}\n",
    "    for smarts, angles_str in data.items():\n",
    "        angle_info[smarts] = [int(angle) for angle in angles_str[1:-1].split(\", \")]\n",
    "    return angle_info"
   ]
  },
  {
   "cell_type": "code",
   "execution_count": 5,
   "id": "5e77cbef",
   "metadata": {},
   "outputs": [],
   "source": [
    "data = {}\n",
    "for file in datafiles:\n",
    "    with file.open(\"r\") as f:\n",
    "        file_data = json.load(f)\n",
    "        filename = file.stem\n",
    "        if filename.startswith(\"torsionPreferences_v2_\"):\n",
    "            filename = filename.replace(\"torsionPreferences_v2_\", \"\")\n",
    "        else:\n",
    "            filename = filename.replace(\"torsionPreferences_\", \"\")\n",
    "        data[filename] = parse_angle_info(file_data)"
   ]
  },
  {
   "cell_type": "code",
   "execution_count": 6,
   "id": "bceb8c11",
   "metadata": {},
   "outputs": [],
   "source": [
    "typedict = {\n",
    "    \"smarts_bounds_macrocycles\": \"macrocycle\",\n",
    "    \"smarts_bounds\": \"general\",\n",
    "    \"fallback_smarts_bounds\": \"fallback\",\n",
    "    \"smarts_bounds_smallrings\": \"smallring\",\n",
    "}"
   ]
  },
  {
   "cell_type": "code",
   "execution_count": 7,
   "id": "1fd89c42",
   "metadata": {},
   "outputs": [],
   "source": [
    "pylist = []\n",
    "\n",
    "for filename, angles_dicts in data.items():\n",
    "    temp = []\n",
    "    for smarts, angles in angles_dicts.items():\n",
    "        temp.append({\"smarts\": smarts, \"expected_angles\": angles, \"type\": typedict[filename], \"multiplicity\": len(angles) if angles else 0})\n",
    "    pylist.extend(temp)"
   ]
  },
  {
   "cell_type": "code",
   "execution_count": 8,
   "id": "1b357450",
   "metadata": {},
   "outputs": [
    {
     "name": "stdout",
     "output_type": "stream",
     "text": [
      "smarts: string\n",
      "expected_angles: list<item: uint16>\n",
      "  child 0, item: uint16\n",
      "type: string\n",
      "multiplicity: uint8\n"
     ]
    }
   ],
   "source": [
    "schema = pa.schema(\n",
    "    [\n",
    "        pa.field(\"smarts\", pa.string()),\n",
    "        pa.field(\"expected_angles\", pa.list_(pa.uint16())),\n",
    "        pa.field(\"type\", pa.string()),\n",
    "        pa.field(\"multiplicity\", pa.uint8()),\n",
    "    ]\n",
    ")\n",
    "\n",
    "print(schema)"
   ]
  },
  {
   "cell_type": "code",
   "execution_count": 9,
   "id": "6eb445cd",
   "metadata": {},
   "outputs": [],
   "source": [
    "table = pa.Table.from_pylist(pylist, schema=schema)"
   ]
  },
  {
   "cell_type": "code",
   "execution_count": 10,
   "id": "b26588eb",
   "metadata": {},
   "outputs": [],
   "source": [
    "pq.write_table(table, smarts_dirpath / \"torsion_smarts.parquet\")"
   ]
  },
  {
   "cell_type": "code",
   "execution_count": 11,
   "id": "c926ab83",
   "metadata": {},
   "outputs": [],
   "source": [
    "df = table.to_pandas()"
   ]
  },
  {
   "cell_type": "code",
   "execution_count": 12,
   "id": "614e74f2",
   "metadata": {},
   "outputs": [],
   "source": [
    "deltas = df[\"expected_angles\"].apply(lambda x: np.diff(sorted(x)) if len(x) > 1 else [0])"
   ]
  },
  {
   "cell_type": "code",
   "execution_count": 13,
   "id": "b47017db",
   "metadata": {},
   "outputs": [
    {
     "data": {
      "application/vnd.microsoft.datawrangler.viewer.v0+json": {
       "columns": [
        {
         "name": "index",
         "rawType": "int64",
         "type": "integer"
        },
        {
         "name": "smarts",
         "rawType": "object",
         "type": "string"
        },
        {
         "name": "expected_angles",
         "rawType": "object",
         "type": "unknown"
        },
        {
         "name": "type",
         "rawType": "object",
         "type": "string"
        },
        {
         "name": "multiplicity",
         "rawType": "uint8",
         "type": "integer"
        }
       ],
       "ref": "1d5796ef-9703-4ddf-8ac4-a3782c947fa4",
       "rows": [
        [
         "0",
         "[C:1][C;r{9-}:2](=O)@;-[NX3H0;r:3][CX4H1:4]",
         "[ 90 270]",
         "macrocycle",
         "2"
        ],
        [
         "1",
         "[C:1][C;r{9-}:2](=O)@;-[NX3H1;r:3][CX4H1:4]",
         "[ 90 270]",
         "macrocycle",
         "2"
        ],
        [
         "2",
         "[C:1][C;r{9-}:2](=O)@;-[NX3H0;r:3][CX4H2:4]",
         "[ 90 270]",
         "macrocycle",
         "2"
        ],
        [
         "3",
         "[O:1]=[C;r{9-}:2]@;-[O;r{9-}:3]~[CH0:4]",
         "[180]",
         "macrocycle",
         "1"
        ],
        [
         "4",
         "[O:1]=[C;r{9-}:2]([N])@;-[O;r{9-}:3]~[C:4]",
         "[180]",
         "macrocycle",
         "1"
        ],
        [
         "5",
         "[O:1]=[C;r{9-}:2]@;-[O;r{9-}:3]~[C:4]",
         "[180]",
         "macrocycle",
         "1"
        ],
        [
         "6",
         "[O:1]=[C;r{9-}:2]@;-[O;r{9-}:3]~[!#1:4]",
         "[180]",
         "macrocycle",
         "1"
        ],
        [
         "7",
         "[$(C=O):1][O;r{9-}:2]@;-[c;r{9-}:3]~[*:4]",
         "[  0 180]",
         "macrocycle",
         "2"
        ],
        [
         "8",
         "[$(C=O):1][O;r{9-}:2]@;-[CX3;r{9-}:3]~[*:4]",
         "[  0 120 240]",
         "macrocycle",
         "3"
        ],
        [
         "9",
         "[$(C=O):1][O;r{9-}:2]@;-[CH1;r{9-}:3][H:4]",
         "[180]",
         "macrocycle",
         "1"
        ],
        [
         "10",
         "[$(C=O):1][O;r{9-}:2]@;-[CH2;r{9-}:3]~[C:4]",
         "[  0 120 240]",
         "macrocycle",
         "3"
        ],
        [
         "11",
         "[H:1][CX4H1;r{9-}:2]@;-[O;r{9-}:3][CX4:4]",
         "[180]",
         "macrocycle",
         "1"
        ],
        [
         "12",
         "[C:1][CH2;r{9-}:2]@;-[O;r{9-}:3][CX4:4]",
         "[  0 120 240]",
         "macrocycle",
         "3"
        ],
        [
         "13",
         "[*:1][CX4;r{9-}:2]@;-[O;r{9-}:3][$([CX3](=[!O])):4]",
         "[0]",
         "macrocycle",
         "1"
        ],
        [
         "14",
         "[O:1][CX4;r{9-}:2]@;-[O;r{9-}:3][CX4:4]",
         "[  0 120 240]",
         "macrocycle",
         "3"
        ],
        [
         "15",
         "[*:1][CX4;r{9-}:2]@;-[O;r{9-}:3][CX4:4]",
         "[  0 120 240]",
         "macrocycle",
         "3"
        ],
        [
         "16",
         "[cH1:1][c;r{9-}:2]([cH1])@;-[O;r{9-}:3][S:4]",
         "[  0 180]",
         "macrocycle",
         "2"
        ],
        [
         "17",
         "[cH1:1][c;r{9-}:2]([cH0])@;-[O;r{9-}:3][S:4]",
         "[  0 180]",
         "macrocycle",
         "2"
        ],
        [
         "18",
         "[cH0:1][c;r{9-}:2]([cH0])@;-[O;r{9-}:3][S:4]",
         "[  0 180]",
         "macrocycle",
         "2"
        ],
        [
         "19",
         "[cH1:1][c;r{9-}:2]([cH1])@;-[O;r{9-}:3][c:4]",
         "[ 45 135 225 315]",
         "macrocycle",
         "4"
        ],
        [
         "20",
         "[cH1:1][c;r{9-}:2]([cH0])@;-[O;r{9-}:3][c:4]",
         "[ 60 180 299]",
         "macrocycle",
         "3"
        ],
        [
         "21",
         "[cH0:1][c;r{9-}:2]([cH0])@;-[O;r{9-}:3][c:4]",
         "[  0 180]",
         "macrocycle",
         "2"
        ],
        [
         "22",
         "[cH0:1][c;r{9-}:2]([cH0])@;-[O;r{9-}:3][P:4]",
         "[  0 180]",
         "macrocycle",
         "2"
        ],
        [
         "23",
         "[cH0:1][c;r{9-}:2]([cH0])@;-[O;r{9-}:3][p:4]",
         "[  0 180]",
         "macrocycle",
         "2"
        ],
        [
         "24",
         "[cH:1][c;r{9-}:2]([cH])@;-[O;r{9-}:3][$(C([F])([F])[F]):4]",
         "[  0 180]",
         "macrocycle",
         "2"
        ],
        [
         "25",
         "[cH0:1][c;r{9-}:2]([cH0])@;-[O;r{9-}:3][CX4H0:4]",
         "[  0 180]",
         "macrocycle",
         "2"
        ],
        [
         "26",
         "[a:1][c;r{9-}:2]([a])@;-[O;r{9-}:3][CX4H0:4]",
         "[ 45 135 225 315]",
         "macrocycle",
         "4"
        ],
        [
         "27",
         "[cH1,n:1][c;r{9-}:2]@;-[O;r{9-}:3][CRH1:4]",
         "[ 90 270]",
         "macrocycle",
         "2"
        ],
        [
         "28",
         "[cH1,n:1][c;r{9-}:2]@;-[O;r{9-}:3][CH1:4]",
         "[ 90 270]",
         "macrocycle",
         "2"
        ],
        [
         "29",
         "[nX2H0:1][c;r{9-}:2]([cH0])@;-[O;r{9-}:3][CX4H0:4]",
         "[180]",
         "macrocycle",
         "1"
        ],
        [
         "30",
         "[cH0:1][c;r{9-}:2]([nX2])@;-[O;r{9-}:3][C:4]",
         "[0]",
         "macrocycle",
         "1"
        ],
        [
         "31",
         "[nX2:1][c;r{9-}:2]([nX2])@;-[O;r{9-}:3][C:4]",
         "[ 90 270]",
         "macrocycle",
         "2"
        ],
        [
         "32",
         "[nX2:1][c;r{9-}:2]([nX3])@;-[O;r{9-}:3][C:4]",
         "[180]",
         "macrocycle",
         "1"
        ],
        [
         "33",
         "[cH1:1][c;r{9-}:2]([nX3])@;-[O;r{9-}:3][C:4]",
         "[180]",
         "macrocycle",
         "1"
        ],
        [
         "34",
         "[cH1:1][c;r{9-}:2]([nX2])@;-[O;r{9-}:3][C:4]",
         "[0]",
         "macrocycle",
         "1"
        ],
        [
         "35",
         "[$([cH0]([CX3])):1][c;r{9-}:2]([cH1])@;-[O;r{9-}:3][C:4]",
         "[0]",
         "macrocycle",
         "1"
        ],
        [
         "36",
         "[cH1:1][c;r{9-}:2](cO)@;-[O;r{9-}:3][C:4]",
         "[180]",
         "macrocycle",
         "1"
        ],
        [
         "37",
         "[$(cO):1][c;r{9-}:2](cO)@;-[O;r{9-}:3][C:4]",
         "[  0 180]",
         "macrocycle",
         "2"
        ],
        [
         "38",
         "[cH0:1][c;r{9-}:2]([cH0])@;-[O;r{9-}:3][C:4]",
         "[  0 180]",
         "macrocycle",
         "2"
        ],
        [
         "39",
         "[cH0:1][c;r{9-}:2]([cH1])@;-[O;r{9-}:3][C:4]",
         "[0]",
         "macrocycle",
         "1"
        ],
        [
         "40",
         "[cH1:1][c;r{9-}:2]([cH1])@;-[O;r{9-}:3][C:4]",
         "[ 90 270]",
         "macrocycle",
         "2"
        ],
        [
         "41",
         "[a:1][c;r{9-}:2]@;-[O;r{9-}:3][CX3H0:4]",
         "[  0 180]",
         "macrocycle",
         "2"
        ],
        [
         "42",
         "[aH0:1][c;r{9-}:2]@;-[OX2;r{9-}:3][!#1:4]",
         "[ 90 270]",
         "macrocycle",
         "2"
        ],
        [
         "43",
         "[!#1:1][CX4H0;r{9-}:2]@;-[OX2;r{9-}:3][!#1:4]",
         "[  0 120 240]",
         "macrocycle",
         "3"
        ],
        [
         "44",
         "[H:1][CX4H1;r{9-}:2]@;-[OX2;r{9-}:3][!#1:4]",
         "[180]",
         "macrocycle",
         "1"
        ],
        [
         "45",
         "[C:1][CX4H2;r{9-}:2]@;-[OX2;r{9-}:3][c:4]",
         "[  0 120 240]",
         "macrocycle",
         "3"
        ],
        [
         "46",
         "[c:1][CX4H2;r{9-}:2]@;-[OX2;r{9-}:3][C:4]",
         "[  0 120 240]",
         "macrocycle",
         "3"
        ],
        [
         "47",
         "[C:1][CX4H2;r{9-}:2]@;-[OX2;r{9-}:3][C:4]",
         "[  0 120 240]",
         "macrocycle",
         "3"
        ],
        [
         "48",
         "[c:1][CX4H2;r{9-}:2]@;-[OX2;r{9-}:3][c:4]",
         "[  0 120 240]",
         "macrocycle",
         "3"
        ],
        [
         "49",
         "[!#1:1][CX4H2;r{9-}:2]@;-[OX2;r{9-}:3][c:4]",
         "[  0 120 240]",
         "macrocycle",
         "3"
        ]
       ],
       "shape": {
        "columns": 4,
        "rows": 838
       }
      },
      "text/html": [
       "<div>\n",
       "<style scoped>\n",
       "    .dataframe tbody tr th:only-of-type {\n",
       "        vertical-align: middle;\n",
       "    }\n",
       "\n",
       "    .dataframe tbody tr th {\n",
       "        vertical-align: top;\n",
       "    }\n",
       "\n",
       "    .dataframe thead th {\n",
       "        text-align: right;\n",
       "    }\n",
       "</style>\n",
       "<table border=\"1\" class=\"dataframe\">\n",
       "  <thead>\n",
       "    <tr style=\"text-align: right;\">\n",
       "      <th></th>\n",
       "      <th>smarts</th>\n",
       "      <th>expected_angles</th>\n",
       "      <th>type</th>\n",
       "      <th>multiplicity</th>\n",
       "    </tr>\n",
       "  </thead>\n",
       "  <tbody>\n",
       "    <tr>\n",
       "      <th>0</th>\n",
       "      <td>[C:1][C;r{9-}:2](=O)@;-[NX3H0;r:3][CX4H1:4]</td>\n",
       "      <td>[90, 270]</td>\n",
       "      <td>macrocycle</td>\n",
       "      <td>2</td>\n",
       "    </tr>\n",
       "    <tr>\n",
       "      <th>1</th>\n",
       "      <td>[C:1][C;r{9-}:2](=O)@;-[NX3H1;r:3][CX4H1:4]</td>\n",
       "      <td>[90, 270]</td>\n",
       "      <td>macrocycle</td>\n",
       "      <td>2</td>\n",
       "    </tr>\n",
       "    <tr>\n",
       "      <th>2</th>\n",
       "      <td>[C:1][C;r{9-}:2](=O)@;-[NX3H0;r:3][CX4H2:4]</td>\n",
       "      <td>[90, 270]</td>\n",
       "      <td>macrocycle</td>\n",
       "      <td>2</td>\n",
       "    </tr>\n",
       "    <tr>\n",
       "      <th>3</th>\n",
       "      <td>[O:1]=[C;r{9-}:2]@;-[O;r{9-}:3]~[CH0:4]</td>\n",
       "      <td>[180]</td>\n",
       "      <td>macrocycle</td>\n",
       "      <td>1</td>\n",
       "    </tr>\n",
       "    <tr>\n",
       "      <th>4</th>\n",
       "      <td>[O:1]=[C;r{9-}:2]([N])@;-[O;r{9-}:3]~[C:4]</td>\n",
       "      <td>[180]</td>\n",
       "      <td>macrocycle</td>\n",
       "      <td>1</td>\n",
       "    </tr>\n",
       "    <tr>\n",
       "      <th>...</th>\n",
       "      <td>...</td>\n",
       "      <td>...</td>\n",
       "      <td>...</td>\n",
       "      <td>...</td>\n",
       "    </tr>\n",
       "    <tr>\n",
       "      <th>833</th>\n",
       "      <td>[!#1;r{5-8}:1]@[P;r5:2]@;-[S,P;r5:3]@[!#1;r{5-...</td>\n",
       "      <td>[45, 135, 225, 315]</td>\n",
       "      <td>smallring</td>\n",
       "      <td>4</td>\n",
       "    </tr>\n",
       "    <tr>\n",
       "      <th>834</th>\n",
       "      <td>[!#1;r{5-8}:1]@[P;r{5-6}:2]@;-[S,P;r{5-8}:3]@[...</td>\n",
       "      <td>[0, 60, 120, 180, 240, 299]</td>\n",
       "      <td>smallring</td>\n",
       "      <td>6</td>\n",
       "    </tr>\n",
       "    <tr>\n",
       "      <th>835</th>\n",
       "      <td>[!#1;r{5-8}:1]@[P;r{5-8}:2]@;-[S,P;r{5-8}:3]@[...</td>\n",
       "      <td>[0, 60, 120, 180, 240, 299]</td>\n",
       "      <td>smallring</td>\n",
       "      <td>6</td>\n",
       "    </tr>\n",
       "    <tr>\n",
       "      <th>836</th>\n",
       "      <td>[!#1;r{5-8}:1]@[P;r{5-8}:2]@;-[a;r{5-8}:3]@[!#...</td>\n",
       "      <td>[30, 90, 149, 209, 270, 330]</td>\n",
       "      <td>smallring</td>\n",
       "      <td>6</td>\n",
       "    </tr>\n",
       "    <tr>\n",
       "      <th>837</th>\n",
       "      <td>[!#1;r{5-8}:1]@;~[A;r{5-8}:2]@;-[A,a;r{5-8}:3]...</td>\n",
       "      <td>[30, 90, 149, 209, 270, 330]</td>\n",
       "      <td>smallring</td>\n",
       "      <td>6</td>\n",
       "    </tr>\n",
       "  </tbody>\n",
       "</table>\n",
       "<p>838 rows × 4 columns</p>\n",
       "</div>"
      ],
      "text/plain": [
       "                                                smarts  \\\n",
       "0          [C:1][C;r{9-}:2](=O)@;-[NX3H0;r:3][CX4H1:4]   \n",
       "1          [C:1][C;r{9-}:2](=O)@;-[NX3H1;r:3][CX4H1:4]   \n",
       "2          [C:1][C;r{9-}:2](=O)@;-[NX3H0;r:3][CX4H2:4]   \n",
       "3              [O:1]=[C;r{9-}:2]@;-[O;r{9-}:3]~[CH0:4]   \n",
       "4           [O:1]=[C;r{9-}:2]([N])@;-[O;r{9-}:3]~[C:4]   \n",
       "..                                                 ...   \n",
       "833  [!#1;r{5-8}:1]@[P;r5:2]@;-[S,P;r5:3]@[!#1;r{5-...   \n",
       "834  [!#1;r{5-8}:1]@[P;r{5-6}:2]@;-[S,P;r{5-8}:3]@[...   \n",
       "835  [!#1;r{5-8}:1]@[P;r{5-8}:2]@;-[S,P;r{5-8}:3]@[...   \n",
       "836  [!#1;r{5-8}:1]@[P;r{5-8}:2]@;-[a;r{5-8}:3]@[!#...   \n",
       "837  [!#1;r{5-8}:1]@;~[A;r{5-8}:2]@;-[A,a;r{5-8}:3]...   \n",
       "\n",
       "                  expected_angles        type  multiplicity  \n",
       "0                       [90, 270]  macrocycle             2  \n",
       "1                       [90, 270]  macrocycle             2  \n",
       "2                       [90, 270]  macrocycle             2  \n",
       "3                           [180]  macrocycle             1  \n",
       "4                           [180]  macrocycle             1  \n",
       "..                            ...         ...           ...  \n",
       "833           [45, 135, 225, 315]   smallring             4  \n",
       "834   [0, 60, 120, 180, 240, 299]   smallring             6  \n",
       "835   [0, 60, 120, 180, 240, 299]   smallring             6  \n",
       "836  [30, 90, 149, 209, 270, 330]   smallring             6  \n",
       "837  [30, 90, 149, 209, 270, 330]   smallring             6  \n",
       "\n",
       "[838 rows x 4 columns]"
      ]
     },
     "execution_count": 13,
     "metadata": {},
     "output_type": "execute_result"
    }
   ],
   "source": [
    "df"
   ]
  },
  {
   "cell_type": "code",
   "execution_count": 14,
   "id": "05a018ef",
   "metadata": {},
   "outputs": [],
   "source": [
    "flattened_deltas = [angle for sublist in deltas for angle in sublist]"
   ]
  },
  {
   "cell_type": "code",
   "execution_count": 15,
   "id": "ba4fdffd",
   "metadata": {},
   "outputs": [],
   "source": [
    "delta_counts = Counter(flattened_deltas)"
   ]
  },
  {
   "cell_type": "code",
   "execution_count": 16,
   "id": "941475a1",
   "metadata": {},
   "outputs": [],
   "source": [
    "min_angle = min([delta for delta in delta_counts.keys() if delta != 0])"
   ]
  },
  {
   "cell_type": "code",
   "execution_count": 17,
   "id": "ff0eccee",
   "metadata": {},
   "outputs": [
    {
     "data": {
      "text/plain": [
       "23"
      ]
     },
     "execution_count": 17,
     "metadata": {},
     "output_type": "execute_result"
    }
   ],
   "source": [
    "min_angle"
   ]
  }
 ],
 "metadata": {
  "kernelspec": {
   "display_name": "SimConfHash",
   "language": "python",
   "name": "python3"
  },
  "language_info": {
   "codemirror_mode": {
    "name": "ipython",
    "version": 3
   },
   "file_extension": ".py",
   "mimetype": "text/x-python",
   "name": "python",
   "nbconvert_exporter": "python",
   "pygments_lexer": "ipython3",
   "version": "3.10.14"
  }
 },
 "nbformat": 4,
 "nbformat_minor": 5
}
