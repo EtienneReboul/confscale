{
 "cells": [
  {
   "cell_type": "markdown",
   "id": "b7c66c05",
   "metadata": {},
   "source": [
    "# Converting  Cambridge Structural Database (CSD) to compressed SDF files\n",
    "\n",
    "Before running this notebook, you'll need to:\n",
    "\n",
    "1. **Obtain a CSD license** - Contact the Cambridge Crystallographic Data Centre (CCDC) to get access to the Cambridge Structural Database.\n",
    "\n",
    "2. **Download the CSD data** - After getting your license, download the database files from the CCDC portal.\n",
    "\n",
    "3. **Setup the environment** - Create a conda environment using the provided environment file:\n",
    "    ```bash\n",
    "    conda env create -f env/csd-api-env.yml\n",
    "    conda activate csd-api-env\n",
    "    ```\n",
    "\n",
    "This notebook is used to transform the CSD stored as sqlite to compressed sdf files"
   ]
  },
  {
   "cell_type": "code",
   "execution_count": null,
   "id": "bb3e6c42",
   "metadata": {},
   "outputs": [],
   "source": [
    "import gzip\n",
    "import shutil\n",
    "from pathlib import Path\n",
    "\n",
    "from ccdc.io import EntryReader\n",
    "from ccdc.io import MoleculeWriter"
   ]
  },
  {
   "cell_type": "code",
   "execution_count": null,
   "id": "62f98f1f",
   "metadata": {},
   "outputs": [],
   "source": [
    "def compress2gzip(input_file: str | Path, output_file: str | Path, remove_original: bool = False) -> None:\n",
    "    \"\"\"\n",
    "    Compress a file to gzip format.\n",
    "\n",
    "    Parameters\n",
    "    ----------\n",
    "    input_file : str or Path\n",
    "        Path to the input file that will be compressed.\n",
    "    output_file : str or Path\n",
    "        Path to the output compressed gzip file.\n",
    "    remove_original : bool, optional\n",
    "        If True, the original file will be removed after compression. Default is False.\n",
    "\n",
    "    Returns\n",
    "    -------\n",
    "    None\n",
    "        Function compresses a file but doesn't return any value.\n",
    "\n",
    "    Raises\n",
    "    ------\n",
    "    TypeError\n",
    "        If input_file or output_file are not str or Path objects.\n",
    "\n",
    "    Notes\n",
    "    -----\n",
    "    Uses gzip and shutil to efficiently compress the input file.\n",
    "    The original file is preserved unless remove_original is set to True.\n",
    "    \"\"\"\n",
    "    # check if inputs are str or Path\n",
    "    if not (isinstance(input_file, (str, Path)) and isinstance(output_file, (str, Path))):\n",
    "        raise TypeError(\"input_file and output_file must be str or Path\")\n",
    "\n",
    "    # convert str to Path if needs be\n",
    "    input_path = Path(input_file) if isinstance(input_file, str) else input_file\n",
    "    output_path = Path(output_file) if isinstance(output_file, str) else output_file\n",
    "\n",
    "    # compress file\n",
    "    with input_path.open(\"rb\") as f_in:\n",
    "        with gzip.open(output_path, \"wb\") as f_out:\n",
    "            shutil.copyfileobj(f_in, f_out)\n",
    "\n",
    "    # remove original file if requested\n",
    "    if remove_original:\n",
    "        input_path.unlink()"
   ]
  },
  {
   "cell_type": "code",
   "execution_count": null,
   "id": "e98022f3",
   "metadata": {},
   "outputs": [],
   "source": [
    "# initialize variables\n",
    "batch_size = 10_000\n",
    "mol_count = 0\n",
    "file_count = 0\n",
    "csd_reader = EntryReader(\"CSD\")\n",
    "output_dir = Path(\"../data/processed/csd_sdf_batches\")\n",
    "output_dir.mkdir(exist_ok=True, parents=True)\n",
    "sdf_writer = MoleculeWriter(output_dir / f\"CSD_batch_{file_count:03d}.sdf\")"
   ]
  },
  {
   "cell_type": "code",
   "execution_count": null,
   "id": "3ae9ee88",
   "metadata": {},
   "outputs": [],
   "source": [
    "for entry in csd_reader:\n",
    "    mol = entry.molecule\n",
    "\n",
    "    if mol_count % batch_size == 0 and mol_count > 0:\n",
    "        # close current SDF writer\n",
    "        sdf_writer.close()\n",
    "        # compress file\n",
    "        compress2gzip(\n",
    "            output_dir / f\"CSD_batch_{file_count:03d}.sdf\", output_dir / f\"CSD_batch_{file_count:03d}.sdf.gz\", remove_original=True\n",
    "        )\n",
    "        file_count += 1\n",
    "        sdf_writer = MoleculeWriter(output_dir / f\"CSD_batch_{file_count:03d}.sdf\")\n",
    "\n",
    "    sdf_writer.write(mol)\n",
    "    mol_count += 1\n",
    "\n",
    "# close last SDF writer\n",
    "sdf_writer.close()\n",
    "compress2gzip(output_dir / f\"CSD_batch_{file_count:03d}.sdf\", output_dir / f\"CSD_batch_{file_count:03d}.sdf.gz\", remove_original=True)"
   ]
  }
 ],
 "metadata": {
  "kernelspec": {
   "display_name": "csd-api-env",
   "language": "python",
   "name": "python3"
  },
  "language_info": {
   "codemirror_mode": {
    "name": "ipython",
    "version": 3
   },
   "file_extension": ".py",
   "mimetype": "text/x-python",
   "name": "python",
   "nbconvert_exporter": "python",
   "pygments_lexer": "ipython3",
   "version": "3.11.13"
  }
 },
 "nbformat": 4,
 "nbformat_minor": 5
}
