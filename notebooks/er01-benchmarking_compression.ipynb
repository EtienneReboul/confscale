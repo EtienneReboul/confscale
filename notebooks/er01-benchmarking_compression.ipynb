{
 "cells": [
  {
   "cell_type": "code",
   "execution_count": 6,
   "id": "1048a6a4",
   "metadata": {},
   "outputs": [],
   "source": [
    "import gzip\n",
    "import multiprocessing as mp\n",
    "import shutil\n",
    "import time\n",
    "from functools import partial\n",
    "from pathlib import Path\n",
    "\n",
    "import matplotlib.pyplot as plt\n",
    "import pandas as pd\n",
    "import pyarrow as pa\n",
    "import pyarrow.dataset as ds\n",
    "import seaborn as sns\n",
    "from dask.distributed import Client\n",
    "from dask.distributed import LocalCluster\n",
    "from dask.distributed import performance_report\n",
    "\n",
    "from confscale.parser import read_smi_to_dask\n",
    "from confscale.parser import smi2parquet\n",
    "from confscale.parser import write_dask_to_parquet\n",
    "from confscale.utils import compute_dataset_size"
   ]
  },
  {
   "cell_type": "code",
   "execution_count": 3,
   "id": "048ed516",
   "metadata": {},
   "outputs": [],
   "source": [
    "dataset_path = \"../data/raw/ZINC20_drug_like\""
   ]
  },
  {
   "cell_type": "code",
   "execution_count": 4,
   "id": "c768a54b",
   "metadata": {},
   "outputs": [
    {
     "name": "stdout",
     "output_type": "stream",
     "text": [
      "Found 90 .smi files\n",
      "Total size: 47,406,986,871 bytes (45210.83 MB, 44.15 GB)\n",
      "\n",
      "Sample of files and their sizes:\n"
     ]
    },
    {
     "data": {
      "application/vnd.microsoft.datawrangler.viewer.v0+json": {
       "columns": [
        {
         "name": "index",
         "rawType": "int64",
         "type": "integer"
        },
        {
         "name": "file_path",
         "rawType": "object",
         "type": "unknown"
        },
        {
         "name": "size_bytes",
         "rawType": "int64",
         "type": "integer"
        },
        {
         "name": "size_kb",
         "rawType": "float64",
         "type": "float"
        },
        {
         "name": "size_mb",
         "rawType": "float64",
         "type": "float"
        }
       ],
       "ref": "9ea6f6c9-e7b8-4f3b-a804-a9c34e5a5157",
       "rows": [
        [
         "0",
         "../data/raw/ZINC20_drug_like/FB/FBAD.smi",
         "217834453",
         "212728.9580078125",
         "207.7431230545044"
        ],
        [
         "1",
         "../data/raw/ZINC20_drug_like/GI/GIAD.smi",
         "566982131",
         "553693.4873046875",
         "540.7162961959839"
        ],
        [
         "2",
         "../data/raw/ZINC20_drug_like/CG/CGAD.smi",
         "328958656",
         "321248.6875",
         "313.71942138671875"
        ],
        [
         "3",
         "../data/raw/ZINC20_drug_like/BD/BDAD.smi",
         "158482626",
         "154768.189453125",
         "151.14081001281738"
        ],
        [
         "4",
         "../data/raw/ZINC20_drug_like/FF/FFAD.smi",
         "1088222358",
         "1062717.146484375",
         "1037.8097133636475"
        ]
       ],
       "shape": {
        "columns": 4,
        "rows": 5
       }
      },
      "text/html": [
       "<div>\n",
       "<style scoped>\n",
       "    .dataframe tbody tr th:only-of-type {\n",
       "        vertical-align: middle;\n",
       "    }\n",
       "\n",
       "    .dataframe tbody tr th {\n",
       "        vertical-align: top;\n",
       "    }\n",
       "\n",
       "    .dataframe thead th {\n",
       "        text-align: right;\n",
       "    }\n",
       "</style>\n",
       "<table border=\"1\" class=\"dataframe\">\n",
       "  <thead>\n",
       "    <tr style=\"text-align: right;\">\n",
       "      <th></th>\n",
       "      <th>file_path</th>\n",
       "      <th>size_bytes</th>\n",
       "      <th>size_kb</th>\n",
       "      <th>size_mb</th>\n",
       "    </tr>\n",
       "  </thead>\n",
       "  <tbody>\n",
       "    <tr>\n",
       "      <th>0</th>\n",
       "      <td>../data/raw/ZINC20_drug_like/FB/FBAD.smi</td>\n",
       "      <td>217834453</td>\n",
       "      <td>2.127290e+05</td>\n",
       "      <td>207.743123</td>\n",
       "    </tr>\n",
       "    <tr>\n",
       "      <th>1</th>\n",
       "      <td>../data/raw/ZINC20_drug_like/GI/GIAD.smi</td>\n",
       "      <td>566982131</td>\n",
       "      <td>5.536935e+05</td>\n",
       "      <td>540.716296</td>\n",
       "    </tr>\n",
       "    <tr>\n",
       "      <th>2</th>\n",
       "      <td>../data/raw/ZINC20_drug_like/CG/CGAD.smi</td>\n",
       "      <td>328958656</td>\n",
       "      <td>3.212487e+05</td>\n",
       "      <td>313.719421</td>\n",
       "    </tr>\n",
       "    <tr>\n",
       "      <th>3</th>\n",
       "      <td>../data/raw/ZINC20_drug_like/BD/BDAD.smi</td>\n",
       "      <td>158482626</td>\n",
       "      <td>1.547682e+05</td>\n",
       "      <td>151.140810</td>\n",
       "    </tr>\n",
       "    <tr>\n",
       "      <th>4</th>\n",
       "      <td>../data/raw/ZINC20_drug_like/FF/FFAD.smi</td>\n",
       "      <td>1088222358</td>\n",
       "      <td>1.062717e+06</td>\n",
       "      <td>1037.809713</td>\n",
       "    </tr>\n",
       "  </tbody>\n",
       "</table>\n",
       "</div>"
      ],
      "text/plain": [
       "                                  file_path  size_bytes       size_kb  \\\n",
       "0  ../data/raw/ZINC20_drug_like/FB/FBAD.smi   217834453  2.127290e+05   \n",
       "1  ../data/raw/ZINC20_drug_like/GI/GIAD.smi   566982131  5.536935e+05   \n",
       "2  ../data/raw/ZINC20_drug_like/CG/CGAD.smi   328958656  3.212487e+05   \n",
       "3  ../data/raw/ZINC20_drug_like/BD/BDAD.smi   158482626  1.547682e+05   \n",
       "4  ../data/raw/ZINC20_drug_like/FF/FFAD.smi  1088222358  1.062717e+06   \n",
       "\n",
       "       size_mb  \n",
       "0   207.743123  \n",
       "1   540.716296  \n",
       "2   313.719421  \n",
       "3   151.140810  \n",
       "4  1037.809713  "
      ]
     },
     "metadata": {},
     "output_type": "display_data"
    },
    {
     "name": "stdout",
     "output_type": "stream",
     "text": [
      "\n",
      "File size statistics (in MB):\n"
     ]
    },
    {
     "data": {
      "application/vnd.microsoft.datawrangler.viewer.v0+json": {
       "columns": [
        {
         "name": "index",
         "rawType": "object",
         "type": "string"
        },
        {
         "name": "size_mb",
         "rawType": "float64",
         "type": "float"
        }
       ],
       "ref": "942341e2-bd62-4dc4-a4c1-7b85b2c13d70",
       "rows": [
        [
         "count",
         "90.0"
        ],
        [
         "mean",
         "502.3425088564555"
        ],
        [
         "std",
         "522.7262078331102"
        ],
        [
         "min",
         "0.41928577423095703"
        ],
        [
         "25%",
         "107.87607264518738"
        ],
        [
         "50%",
         "451.34310817718506"
        ],
        [
         "75%",
         "652.8212242126465"
        ],
        [
         "max",
         "3352.185326576233"
        ]
       ],
       "shape": {
        "columns": 1,
        "rows": 8
       }
      },
      "text/plain": [
       "count      90.000000\n",
       "mean      502.342509\n",
       "std       522.726208\n",
       "min         0.419286\n",
       "25%       107.876073\n",
       "50%       451.343108\n",
       "75%       652.821224\n",
       "max      3352.185327\n",
       "Name: size_mb, dtype: float64"
      ]
     },
     "metadata": {},
     "output_type": "display_data"
    }
   ],
   "source": [
    "# Find all .smi files in the dataset_path directory and its subdirectories\n",
    "smi_files = list(Path(dataset_path).glob(\"**/*.smi\"))\n",
    "\n",
    "# Calculate the size of each file\n",
    "file_sizes = [(file, file.stat().st_size) for file in smi_files]\n",
    "\n",
    "# Create a dataframe to store the results\n",
    "file_size_df = pd.DataFrame(file_sizes, columns=[\"file_path\", \"size_bytes\"])\n",
    "\n",
    "# Add columns for size in KB, MB\n",
    "file_size_df[\"size_kb\"] = file_size_df[\"size_bytes\"] / 1024\n",
    "file_size_df[\"size_mb\"] = file_size_df[\"size_kb\"] / 1024\n",
    "\n",
    "# Calculate total size\n",
    "total_size_bytes = file_size_df[\"size_bytes\"].sum()\n",
    "total_size_mb = total_size_bytes / (1024 * 1024)\n",
    "total_size_gb = total_size_mb / 1024\n",
    "\n",
    "print(f\"Found {len(smi_files)} .smi files\")\n",
    "print(f\"Total size: {total_size_bytes:,} bytes ({total_size_mb:.2f} MB, {total_size_gb:.2f} GB)\")\n",
    "\n",
    "# Display the first few files with their sizes\n",
    "print(\"\\nSample of files and their sizes:\")\n",
    "display(file_size_df.head())\n",
    "\n",
    "# Optional: summary statistics of file sizes\n",
    "print(\"\\nFile size statistics (in MB):\")\n",
    "display(file_size_df[\"size_mb\"].describe())"
   ]
  },
  {
   "cell_type": "code",
   "execution_count": null,
   "id": "7c3d7eb4",
   "metadata": {},
   "outputs": [
    {
     "data": {
      "image/png": "[encoded data removed]",
      "text/plain": [
       "<Figure size 1200x600 with 1 Axes>"
      ]
     },
     "metadata": {},
     "output_type": "display_data"
    }
   ],
   "source": [
    "# Set up the plot style\n",
    "plt.figure(figsize=(12, 6))\n",
    "sns.set(style=\"whitegrid\")\n",
    "\n",
    "# Create a histogram of file sizes in MB\n",
    "ax = sns.histplot(file_size_df[\"size_mb\"], bins=20, kde=True)\n",
    "ax.set_title(\"Distribution of ZINC20 SMI File Sizes\", fontsize=16)\n",
    "ax.set_xlabel(\"File Size (MB)\", fontsize=12)\n",
    "ax.set_ylabel(\"Count\", fontsize=12)\n",
    "\n",
    "# Add vertical line for mean and median\n",
    "mean_size = file_size_df[\"size_mb\"].mean()\n",
    "median_size = file_size_df[\"size_mb\"].median()\n",
    "plt.axvline(mean_size, color=\"r\", linestyle=\"--\", label=f\"Mean: {mean_size:.2f} MB\")\n",
    "plt.axvline(median_size, color=\"g\", linestyle=\"-.\", label=f\"Median: {median_size:.2f} MB\")\n",
    "\n",
    "# Add legend\n",
    "plt.legend()\n",
    "\n",
    "# Show some statistics as text\n",
    "stats_text = (\n",
    "    f\"Total Files: {len(file_size_df)}\\n\"\n",
    "    f\"Total Size: {total_size_gb:.2f} GB\\n\"\n",
    "    f\"Min Size: {file_size_df['size_mb'].min():.2f} MB\\n\"\n",
    "    f\"Max Size: {file_size_df['size_mb'].max():.2f} MB\"\n",
    ")\n",
    "plt.annotate(stats_text, xy=(0.75, 0.75), xycoords=\"axes fraction\", bbox={\"boxstyle\": \"round,pad=0.5\", \"fc\": \"white\", \"alpha\": 0.8})\n",
    "\n",
    "plt.tight_layout()\n",
    "plt.show()"
   ]
  },
  {
   "cell_type": "code",
   "execution_count": null,
   "id": "01cfecc1",
   "metadata": {},
   "outputs": [],
   "source": [
    "df = pd.read_parquet(\"../data/processed/zinc20_drug_like.parquet\")"
   ]
  },
  {
   "cell_type": "code",
   "execution_count": null,
   "id": "78d94495",
   "metadata": {},
   "outputs": [],
   "source": [
    "schema = pa.schema(\n",
    "    [\n",
    "        pa.field(\"smiles\", pa.string()),\n",
    "        pa.field(\"zinc_id\", pa.uint32()),\n",
    "        pa.field(\"tranches\", pa.string()),\n",
    "    ],\n",
    "    metadata={\n",
    "        \"description\": \"ZINC20 subset\",\n",
    "        \"Predefined_Subsets\": \"Drug-Like\",\n",
    "        \"Highest_Reactivity\": \"Anodyne\",\n",
    "        \"Highest_Activity_exclusive\": \"True\",\n",
    "        \"Minimum_Purchasability\": \"Wait_Ok\",\n",
    "        \"Minimum_Purchasability_exclusive\": \"True\",\n",
    "        \"source\": \"https://zinc20.docking.org/\",\n",
    "        \"smiles\": \"Simplified Molecular Input Line Entry System ( SMILES ) notation\",\n",
    "        \"zinc_id\": \"Unique identifier for each molecule in the ZINC database\",\n",
    "        \"tranches\": \"Data partitioning information based on logP and molecular weight\",\n",
    "    },\n",
    ")"
   ]
  },
  {
   "cell_type": "code",
   "execution_count": 11,
   "id": "8d0ea2bd",
   "metadata": {},
   "outputs": [],
   "source": [
    "data = smi2parquet(dataset_path=dataset_path, schema=schema, partitioning=ds.partitioning(pa.schema([(\"tranches\", pa.string())])))"
   ]
  },
  {
   "cell_type": "code",
   "execution_count": 12,
   "id": "9e162ea1",
   "metadata": {},
   "outputs": [],
   "source": [
    "final_output_path = \"../data/processed/ZINC20_drug_like\"\n",
    "minrowpergroup = 10**6\n",
    "maxrowpergroup = 2 * 10**6\n",
    "maxrowperfile = 100 * 10**6"
   ]
  },
  {
   "cell_type": "code",
   "execution_count": 6,
   "id": "c66415dc",
   "metadata": {},
   "outputs": [],
   "source": [
    "pa.set_io_thread_count(16)"
   ]
  },
  {
   "cell_type": "code",
   "execution_count": 7,
   "id": "2be8e4e5",
   "metadata": {},
   "outputs": [],
   "source": [
    "def write_dataset_to_parquet(\n",
    "    dataset: ds.Dataset,\n",
    "    output_path: str,\n",
    "    min_rows_per_group: int = 10**5,\n",
    "    max_rows_per_group: int = 1024 * 1024,\n",
    "    max_rows_per_file: int = 100 * 10**6,\n",
    "    compression: str = \"zstd\",\n",
    "    compression_level: int = 3,\n",
    ") -> None:\n",
    "    \"\"\"\n",
    "    Writes a PyArrow dataset to Parquet format with specified parameters.\n",
    "\n",
    "    Args:\n",
    "        dataset (ds.Dataset): The PyArrow dataset to write.\n",
    "        output_path (str): Path where the Parquet dataset will be written.\n",
    "        min_rows_per_group (int): Minimum number of rows per row group.\n",
    "        max_rows_per_group (int): Maximum number of rows per row group.\n",
    "        max_rows_per_file (int): Maximum number of rows per file.\n",
    "        compression (str): Compression algorithm to use.\n",
    "        compression_level (int): Compression level.\n",
    "    \"\"\"\n",
    "    ds.write_dataset(\n",
    "        dataset,\n",
    "        output_path,\n",
    "        format=\"parquet\",\n",
    "        min_rows_per_group=min_rows_per_group,\n",
    "        max_rows_per_group=max_rows_per_group,\n",
    "        max_rows_per_file=max_rows_per_file,\n",
    "        file_options=ds.ParquetFileFormat().make_write_options(compression=compression, compression_level=compression_level),\n",
    "    )"
   ]
  },
  {
   "cell_type": "code",
   "execution_count": 8,
   "id": "b1ce18eb",
   "metadata": {},
   "outputs": [
    {
     "data": {
      "text/plain": [
       "1048576"
      ]
     },
     "execution_count": 8,
     "metadata": {},
     "output_type": "execute_result"
    }
   ],
   "source": [
    "1024 * 1024"
   ]
  },
  {
   "cell_type": "code",
   "execution_count": 9,
   "id": "1d252e43",
   "metadata": {},
   "outputs": [],
   "source": [
    "def benchmark_compression(\n",
    "    dataset: ds.Dataset,\n",
    "    output_path: str,\n",
    "    compression: str,\n",
    "    compression_level: int | None = None,\n",
    "):\n",
    "    \"\"\"\n",
    "    Benchmarks different compression algorithms for Parquet writing.\n",
    "\n",
    "    Args:\n",
    "        input_path (str): Path to the input SMI files.\n",
    "        output_path (str): Path to the output Parquet files.\n",
    "        compression (str): Compression algorithm to use (e.g., \"snappy\", \"gzip\", \"brotli\", \"zstd\", \"lz4\").\n",
    "        compression_level (int, optional): Compression level for algorithms that support it. Defaults to None.\n",
    "        blocksize (str): Block size for reading the SMI files.\n",
    "        sep (str): Separator used in the SMI files.\n",
    "    \"\"\"\n",
    "\n",
    "    result_dict = {\n",
    "        \"compression\": compression,\n",
    "        \"compression_level\": compression_level,\n",
    "        \"duration\": None,\n",
    "        \"input_size\": compute_dataset_size(dataset),\n",
    "        \"output_size\": None,\n",
    "        \"compression_ratio\": None,\n",
    "    }\n",
    "\n",
    "    start_time = time.time()\n",
    "\n",
    "    # Write the dataset to Parquet format with the specified compression\n",
    "    write_dataset_to_parquet(\n",
    "        dataset,\n",
    "        output_path,\n",
    "        min_rows_per_group=10**5,\n",
    "        max_rows_per_group=1024 * 1024,\n",
    "        max_rows_per_file=100 * 10**6,\n",
    "        compression=compression,\n",
    "        compression_level=compression_level,\n",
    "    )\n",
    "\n",
    "    result_dict[\"duration\"] = time.time() - start_time\n",
    "\n",
    "    # get size info\n",
    "\n",
    "    result_dict[\"output_size\"] = compute_dataset_size(ds.dataset(output_path, format=\"parquet\"))\n",
    "    result_dict[\"compression_ratio\"] = result_dict[\"input_size\"] / result_dict[\"output_size\"]\n",
    "\n",
    "    # clean up output directory\n",
    "    if Path(output_path).exists():\n",
    "        shutil.rmtree(output_path)\n",
    "\n",
    "    return result_dict"
   ]
  },
  {
   "cell_type": "code",
   "execution_count": 10,
   "id": "593687d0",
   "metadata": {},
   "outputs": [],
   "source": [
    "compression_infos = [\n",
    "    # {\n",
    "    #     \"compression\" : \"snappy\",\n",
    "    #     \"compression_level\" : None,\n",
    "    # },\n",
    "    # {\n",
    "    #     \"compression\": \"gzip\",\n",
    "    #     \"compression_level\": range(1, 10),\n",
    "    # },\n",
    "    # {\n",
    "    #     \"compression\": \"brotli\",\n",
    "    #     \"compression_level\": range(12),\n",
    "    # },\n",
    "    {\n",
    "        \"compression\": \"zstd\",\n",
    "        \"compression_level\": range(1, 23),\n",
    "    },\n",
    "    {\n",
    "        \"compression\": \"lz4\",\n",
    "        \"compression_level\": range(1, 13),\n",
    "    },\n",
    "]\n",
    "# Initialize list to store benchmark results\n",
    "bench_mark_results = []\n",
    "\n",
    "# For each compression algorithm and level combination\n",
    "for info in compression_infos:\n",
    "    compression_algorithm = info[\"compression\"]\n",
    "    compression_levels = info[\"compression_level\"]\n",
    "    algorithm_results = []\n",
    "\n",
    "    # Create directory for this compression algorithm\n",
    "    output_dir = Path(\"../reports/ZINC20_compression\")\n",
    "    output_dir.mkdir(parents=True, exist_ok=True)\n",
    "\n",
    "    # Test with different compression levels if specified\n",
    "    if compression_levels is None:\n",
    "        result = benchmark_compression(\n",
    "            dataset=data,\n",
    "            output_path=f\"../data/processed/ZINC20_{compression_algorithm}_test\",\n",
    "            compression=compression_algorithm,\n",
    "            compression_level=None,\n",
    "        )\n",
    "        algorithm_results.append(result)\n",
    "        bench_mark_results.append(result)\n",
    "    else:\n",
    "        # For each compression level in the range\n",
    "        for level in compression_levels:\n",
    "            result = benchmark_compression(\n",
    "                dataset=data,\n",
    "                output_path=f\"../data/processed/ZINC20_{compression_algorithm}_{level}_test\",\n",
    "                compression=compression_algorithm,\n",
    "                compression_level=level,\n",
    "            )\n",
    "            algorithm_results.append(result)\n",
    "            bench_mark_results.append(result)\n",
    "\n",
    "    # Save results for this compression algorithm immediately\n",
    "    algorithm_df = pd.DataFrame(algorithm_results)\n",
    "    algorithm_df.to_csv(output_dir / f\"benchmark_results_parquet_pyarrow_{compression_algorithm}.csv\", index=False)"
   ]
  },
  {
   "cell_type": "code",
   "execution_count": 11,
   "id": "b58eda60",
   "metadata": {},
   "outputs": [],
   "source": [
    "compression_infos = [\n",
    "    # {\n",
    "    #     \"compression\" : \"snappy\",\n",
    "    #     \"compression_level\" : None,\n",
    "    # },\n",
    "    # {\n",
    "    #     \"compression\": \"gzip\",\n",
    "    #     \"compression_level\": range(1, 10),\n",
    "    # },\n",
    "    {\n",
    "        \"compression\": \"brotli\",\n",
    "        \"compression_level\": range(12),\n",
    "    },\n",
    "    # {\n",
    "    #     \"compression\": \"zstd\",\n",
    "    #     \"compression_level\": range(1, 23),\n",
    "    # },\n",
    "    # {\n",
    "    #     \"compression\": \"lz4\",\n",
    "    #     \"compression_level\": range(1, 13),\n",
    "    # },\n",
    "]\n",
    "# Initialize list to store benchmark results\n",
    "bench_mark_results = []\n",
    "\n",
    "# For each compression algorithm and level combination\n",
    "for info in compression_infos:\n",
    "    compression_algorithm = info[\"compression\"]\n",
    "    compression_levels = info[\"compression_level\"]\n",
    "    algorithm_results = []\n",
    "\n",
    "    # Create directory for this compression algorithm\n",
    "    output_dir = Path(\"../reports/ZINC20_compression\")\n",
    "    output_dir.mkdir(parents=True, exist_ok=True)\n",
    "\n",
    "    # Test with different compression levels if specified\n",
    "    if compression_levels is None:\n",
    "        result = benchmark_compression(\n",
    "            dataset=data,\n",
    "            output_path=f\"../data/processed/ZINC20_{compression_algorithm}_test\",\n",
    "            compression=compression_algorithm,\n",
    "            compression_level=None,\n",
    "        )\n",
    "        algorithm_results.append(result)\n",
    "        bench_mark_results.append(result)\n",
    "    else:\n",
    "        # For each compression level in the range\n",
    "        for level in compression_levels:\n",
    "            result = benchmark_compression(\n",
    "                dataset=data,\n",
    "                output_path=f\"../data/processed/ZINC20_{compression_algorithm}_{level}_test\",\n",
    "                compression=compression_algorithm,\n",
    "                compression_level=level,\n",
    "            )\n",
    "            algorithm_results.append(result)\n",
    "            bench_mark_results.append(result)\n",
    "\n",
    "    # Save results for this compression algorithm immediately\n",
    "    algorithm_df = pd.DataFrame(algorithm_results)\n",
    "    algorithm_df.to_csv(output_dir / f\"benchmark_results_parquet_pyarrow_{compression_algorithm}.csv\", index=False)"
   ]
  },
  {
   "cell_type": "code",
   "execution_count": 13,
   "id": "fb5210bc",
   "metadata": {},
   "outputs": [],
   "source": [
    "cluster = LocalCluster(n_workers=18, memory_limit=\"1.5GB\")\n",
    "client = Client(cluster)"
   ]
  },
  {
   "cell_type": "code",
   "execution_count": 5,
   "id": "bfdd53ba",
   "metadata": {},
   "outputs": [],
   "source": [
    "# client.restart()"
   ]
  },
  {
   "cell_type": "code",
   "execution_count": 14,
   "id": "576b2238",
   "metadata": {},
   "outputs": [
    {
     "name": "stdout",
     "output_type": "stream",
     "text": [
      "http://127.0.0.1:8787/status\n"
     ]
    }
   ],
   "source": [
    "print(client.dashboard_link)"
   ]
  },
  {
   "cell_type": "code",
   "execution_count": 9,
   "id": "50b83a81",
   "metadata": {},
   "outputs": [],
   "source": [
    "def benchmark_compression(\n",
    "    input_path: str,\n",
    "    output_path: str,\n",
    "    compression_algorithm: str,\n",
    "    compression_level: int | None = None,\n",
    "    blocksize: str = \"128MB\",\n",
    "    sep: str = \" \",\n",
    "    schema: pa.Schema | None = None,\n",
    "):\n",
    "    \"\"\"\n",
    "    Benchmarks different compression algorithms for Parquet writing.\n",
    "\n",
    "    Args:\n",
    "        input_path (str): Path to the input SMI files.\n",
    "        output_path (str): Path to the output Parquet files.\n",
    "        compression (str): Compression algorithm to use (e.g., \"snappy\", \"gzip\", \"brotli\", \"zstd\", \"lz4\").\n",
    "        compression_level (int, optional): Compression level for algorithms that support it. Defaults to None.\n",
    "        blocksize (str): Block size for reading the SMI files.\n",
    "        sep (str): Separator used in the SMI files.\n",
    "    \"\"\"\n",
    "\n",
    "    result_dict = {\n",
    "        \"compression_algorithm\": compression_algorithm,\n",
    "        \"compression_level\": compression_level,\n",
    "        \"blocksize\": blocksize,\n",
    "        \"duration\": None,\n",
    "        \"input_size\": None,\n",
    "        \"output_size\": None,\n",
    "        \"compression_ratio\": None,\n",
    "        \"report_path\": None,\n",
    "    }\n",
    "\n",
    "    start_time = time.time()\n",
    "\n",
    "    input_path = Path(input_path)\n",
    "\n",
    "    experience_name = \"_\".join([input_path.stem, compression_algorithm, str(compression_level), str(blocksize), \"dask-report.html\"])\n",
    "\n",
    "    report_dir = Path(f\"../reports/ZINC20_compression/{compression_algorithm}\")\n",
    "    report_dir.mkdir(parents=True, exist_ok=True)\n",
    "\n",
    "    report_path = report_dir / experience_name\n",
    "    result_dict[\"report_path\"] = report_path\n",
    "\n",
    "    start_time = time.time()\n",
    "    with performance_report(filename=str(report_path)):\n",
    "        ddf = read_smi_to_dask(\n",
    "            str(Path(input_path) / \"*/*.smi\"),\n",
    "            blocksize=blocksize,\n",
    "            sep=sep,\n",
    "        )\n",
    "        parquet_writer = write_dask_to_parquet(\n",
    "            ddf,\n",
    "            output_path,\n",
    "            compression=compression_algorithm,\n",
    "            level_compression=compression_level,\n",
    "            schema=schema,\n",
    "        )\n",
    "        parquet_writer.compute()\n",
    "    result_dict[\"duration\"] = time.time() - start_time\n",
    "\n",
    "    # get size info\n",
    "    input_size = compute_dataset_size(\n",
    "        smi2parquet(\n",
    "            dataset_path=input_path,\n",
    "            schema=schema,\n",
    "            partitioning=ds.partitioning(pa.schema([(\"tranches\", pa.string())])),\n",
    "        )\n",
    "    )\n",
    "    output_size = compute_dataset_size(ds.dataset(output_path, format=\"parquet\"))\n",
    "    result_dict[\"input_size\"] = input_size\n",
    "    result_dict[\"output_size\"] = output_size\n",
    "    result_dict[\"compression_ratio\"] = input_size / output_size\n",
    "\n",
    "    # clean up output directory\n",
    "    if Path(output_path).exists():\n",
    "        shutil.rmtree(output_path)\n",
    "\n",
    "    return result_dict"
   ]
  },
  {
   "cell_type": "code",
   "execution_count": 1,
   "id": "90821496",
   "metadata": {},
   "outputs": [
    {
     "ename": "NameError",
     "evalue": "name 'benchmark_compression' is not defined",
     "output_type": "error",
     "traceback": [
      "\u001b[31m---------------------------------------------------------------------------\u001b[39m",
      "\u001b[31mNameError\u001b[39m                                 Traceback (most recent call last)",
      "\u001b[36mCell\u001b[39m\u001b[36m \u001b[39m\u001b[32mIn[1]\u001b[39m\u001b[32m, line 39\u001b[39m\n\u001b[32m     37\u001b[39m \u001b[38;5;28;01mfor\u001b[39;00m level \u001b[38;5;129;01min\u001b[39;00m compression_level:\n\u001b[32m     38\u001b[39m     \u001b[38;5;28;01mfor\u001b[39;00m block \u001b[38;5;129;01min\u001b[39;00m blocksize:\n\u001b[32m---> \u001b[39m\u001b[32m39\u001b[39m         result = \u001b[43mbenchmark_compression\u001b[49m(\n\u001b[32m     40\u001b[39m             \u001b[33m\"\u001b[39m\u001b[33m../data/raw/ZINC20_drug_like/\u001b[39m\u001b[33m\"\u001b[39m,\n\u001b[32m     41\u001b[39m             \u001b[33m\"\u001b[39m\u001b[33m../data/processed/zinc20_drug_like/\u001b[39m\u001b[33m\"\u001b[39m,\n\u001b[32m     42\u001b[39m             compression_algorithm=compression_algorithm,\n\u001b[32m     43\u001b[39m             compression_level=level,\n\u001b[32m     44\u001b[39m             blocksize=block,\n\u001b[32m     45\u001b[39m         )\n\u001b[32m     46\u001b[39m         bench_mark_results.append(result)\n\u001b[32m     47\u001b[39m     \u001b[38;5;66;03m# Convert the benchmark results to a DataFrame\u001b[39;00m\n",
      "\u001b[31mNameError\u001b[39m: name 'benchmark_compression' is not defined"
     ]
    }
   ],
   "source": [
    "compression_infos = [\n",
    "    # {\n",
    "    #     \"compression\" : \"snappy\",\n",
    "    #     \"compression_level\" : None,\n",
    "    #     \"blocksize\" : [\"16MB\", \"32MB\", \"64MB\"],\n",
    "    # },\n",
    "    # {\n",
    "    #     \"compression\": \"gzip\",\n",
    "    #     \"compression_level\": range(1, 10),\n",
    "    #     \"blocksize\": [\"16MB\", \"32MB\", \"64MB\"],\n",
    "    # },\n",
    "    # {\n",
    "    #     \"compression\": \"brotli\",\n",
    "    #     \"compression_level\": range(12),\n",
    "    #     \"blocksize\": [\"16MB\", \"32MB\", \"64MB\"],\n",
    "    # },\n",
    "    {\n",
    "        \"compression\": \"zstd\",\n",
    "        \"compression_level\": range(1, 23),\n",
    "        \"blocksize\": [\"16MB\", \"32MB\", \"64MB\"],\n",
    "    },\n",
    "    {\n",
    "        \"compression\": \"lz4\",\n",
    "        \"compression_level\": range(1, 13),\n",
    "        \"blocksize\": [\"16MB\", \"32MB\", \"64MB\"],\n",
    "    },\n",
    "]\n",
    "\n",
    "for info in compression_infos:\n",
    "    bench_mark_results = []\n",
    "    compression_algorithm = info[\"compression\"]\n",
    "    compression_level = info[\"compression_level\"]\n",
    "    blocksize = info[\"blocksize\"]\n",
    "\n",
    "    if isinstance(compression_level, range):\n",
    "        for level in compression_level:\n",
    "            for block in blocksize:\n",
    "                result = benchmark_compression(\n",
    "                    \"../data/raw/ZINC20_drug_like/\",\n",
    "                    \"../data/processed/zinc20_drug_like/\",\n",
    "                    compression_algorithm=compression_algorithm,\n",
    "                    compression_level=level,\n",
    "                    blocksize=block,\n",
    "                )\n",
    "                bench_mark_results.append(result)\n",
    "            # Convert the benchmark results to a DataFrame\n",
    "        benchmark_df = pd.DataFrame(bench_mark_results)\n",
    "        # Save the benchmark results to a CSV file\n",
    "        benchmark_df.to_csv(\n",
    "            f\"../reports/ZINC20_compression/benchmark_results_dask_{compression_algorithm}.csv\",\n",
    "            index=False,\n",
    "        )\n",
    "    else:\n",
    "        for block in blocksize:\n",
    "            result = benchmark_compression(\n",
    "                \"../data/raw/ZINC20_drug_like/\",\n",
    "                \"../data/processed/zinc20_drug_like/\",\n",
    "                compression_algorithm=compression_algorithm,\n",
    "                compression_level=compression_level,\n",
    "                blocksize=block,\n",
    "            )\n",
    "            bench_mark_results.append(result)\n",
    "            # Convert the benchmark results to a DataFrame\n",
    "        benchmark_df = pd.DataFrame(bench_mark_results)\n",
    "        # Save the benchmark results to a CSV file\n",
    "        benchmark_df.to_csv(\n",
    "            f\"../reports/ZINC20_compression/benchmark_results_dask_{compression_algorithm}.csv\",\n",
    "            index=False,\n",
    "        )"
   ]
  },
  {
   "cell_type": "code",
   "execution_count": 17,
   "id": "3b49ff11",
   "metadata": {},
   "outputs": [],
   "source": [
    "sep = \" \"\n",
    "input_path = \"../data/raw/ZINC20_drug_like/\"\n",
    "blocksize = \"64MB\""
   ]
  },
  {
   "cell_type": "code",
   "execution_count": 18,
   "id": "4bcf641a",
   "metadata": {},
   "outputs": [],
   "source": [
    "ddf = read_smi_to_dask(\n",
    "    str(Path(input_path) / \"*/*.smi\"),\n",
    "    blocksize=blocksize,\n",
    "    sep=sep,\n",
    ")"
   ]
  },
  {
   "cell_type": "code",
   "execution_count": 22,
   "id": "03c622b5",
   "metadata": {},
   "outputs": [],
   "source": [
    "parquet_writer = write_dask_to_parquet(\n",
    "    ddf,\n",
    "    \"../data/processed/zinc20_drug_like_test/\",\n",
    "    compression=\"snappy\",\n",
    "    level_compression=None,\n",
    "    schema=None,\n",
    ")"
   ]
  },
  {
   "cell_type": "code",
   "execution_count": 23,
   "id": "e05167ec",
   "metadata": {},
   "outputs": [
    {
     "name": "stderr",
     "output_type": "stream",
     "text": [
      "2025-09-10 21:56:08,144 - distributed.worker.memory - WARNING - Unmanaged memory use is high. This may indicate a memory leak or the memory may not be released to the OS; see https://distributed.dask.org/en/latest/worker-memory.html#memory-not-released-back-to-the-os for more information. -- Unmanaged memory: 0.92 GiB -- Worker memory limit: 1.40 GiB\n",
      "2025-09-10 21:56:14,417 - distributed.worker.memory - WARNING - Unmanaged memory use is high. This may indicate a memory leak or the memory may not be released to the OS; see https://distributed.dask.org/en/latest/worker-memory.html#memory-not-released-back-to-the-os for more information. -- Unmanaged memory: 0.98 GiB -- Worker memory limit: 1.40 GiB\n",
      "2025-09-10 21:56:53,407 - distributed.worker.memory - WARNING - Unmanaged memory use is high. This may indicate a memory leak or the memory may not be released to the OS; see https://distributed.dask.org/en/latest/worker-memory.html#memory-not-released-back-to-the-os for more information. -- Unmanaged memory: 874.89 MiB -- Worker memory limit: 1.40 GiB\n",
      "2025-09-10 21:57:13,770 - distributed.worker.memory - WARNING - Unmanaged memory use is high. This may indicate a memory leak or the memory may not be released to the OS; see https://distributed.dask.org/en/latest/worker-memory.html#memory-not-released-back-to-the-os for more information. -- Unmanaged memory: 875.75 MiB -- Worker memory limit: 1.40 GiB\n",
      "2025-09-10 21:57:26,044 - distributed.worker.memory - WARNING - Unmanaged memory use is high. This may indicate a memory leak or the memory may not be released to the OS; see https://distributed.dask.org/en/latest/worker-memory.html#memory-not-released-back-to-the-os for more information. -- Unmanaged memory: 873.11 MiB -- Worker memory limit: 1.40 GiB\n",
      "2025-09-10 21:57:27,401 - distributed.worker.memory - WARNING - Unmanaged memory use is high. This may indicate a memory leak or the memory may not be released to the OS; see https://distributed.dask.org/en/latest/worker-memory.html#memory-not-released-back-to-the-os for more information. -- Unmanaged memory: 1.04 GiB -- Worker memory limit: 1.40 GiB\n"
     ]
    }
   ],
   "source": [
    "parquet_writer.compute()"
   ]
  },
  {
   "cell_type": "code",
   "execution_count": 24,
   "id": "90d81fe4",
   "metadata": {},
   "outputs": [
    {
     "name": "stdout",
     "output_type": "stream",
     "text": [
      "Found 719 .parquet files\n",
      "Total size: 25,636,033,179 bytes (24448.43 MB, 23.88 GB)\n",
      "\n",
      "Sample of files and their sizes:\n"
     ]
    },
    {
     "data": {
      "application/vnd.microsoft.datawrangler.viewer.v0+json": {
       "columns": [
        {
         "name": "index",
         "rawType": "int64",
         "type": "integer"
        },
        {
         "name": "file_path",
         "rawType": "object",
         "type": "unknown"
        },
        {
         "name": "size_bytes",
         "rawType": "int64",
         "type": "integer"
        },
        {
         "name": "size_kb",
         "rawType": "float64",
         "type": "float"
        },
        {
         "name": "size_mb",
         "rawType": "float64",
         "type": "float"
        }
       ],
       "ref": "e6040fb6-e852-4ce9-abf9-900f4d8eace9",
       "rows": [
        [
         "0",
         "../data/processed/zinc20_drug_like_test/part.211.parquet",
         "35369380",
         "34540.41015625",
         "33.73086929321289"
        ],
        [
         "1",
         "../data/processed/zinc20_drug_like_test/part.320.parquet",
         "37116570",
         "36246.650390625",
         "35.39711952209473"
        ],
        [
         "2",
         "../data/processed/zinc20_drug_like_test/part.100.parquet",
         "37106974",
         "36237.279296875",
         "35.38796806335449"
        ],
        [
         "3",
         "../data/processed/zinc20_drug_like_test/part.565.parquet",
         "36381226",
         "35528.541015625",
         "34.69584083557129"
        ],
        [
         "4",
         "../data/processed/zinc20_drug_like_test/part.174.parquet",
         "34520488",
         "33711.4140625",
         "32.921302795410156"
        ]
       ],
       "shape": {
        "columns": 4,
        "rows": 5
       }
      },
      "text/html": [
       "<div>\n",
       "<style scoped>\n",
       "    .dataframe tbody tr th:only-of-type {\n",
       "        vertical-align: middle;\n",
       "    }\n",
       "\n",
       "    .dataframe tbody tr th {\n",
       "        vertical-align: top;\n",
       "    }\n",
       "\n",
       "    .dataframe thead th {\n",
       "        text-align: right;\n",
       "    }\n",
       "</style>\n",
       "<table border=\"1\" class=\"dataframe\">\n",
       "  <thead>\n",
       "    <tr style=\"text-align: right;\">\n",
       "      <th></th>\n",
       "      <th>file_path</th>\n",
       "      <th>size_bytes</th>\n",
       "      <th>size_kb</th>\n",
       "      <th>size_mb</th>\n",
       "    </tr>\n",
       "  </thead>\n",
       "  <tbody>\n",
       "    <tr>\n",
       "      <th>0</th>\n",
       "      <td>../data/processed/zinc20_drug_like_test/part.2...</td>\n",
       "      <td>35369380</td>\n",
       "      <td>34540.410156</td>\n",
       "      <td>33.730869</td>\n",
       "    </tr>\n",
       "    <tr>\n",
       "      <th>1</th>\n",
       "      <td>../data/processed/zinc20_drug_like_test/part.3...</td>\n",
       "      <td>37116570</td>\n",
       "      <td>36246.650391</td>\n",
       "      <td>35.397120</td>\n",
       "    </tr>\n",
       "    <tr>\n",
       "      <th>2</th>\n",
       "      <td>../data/processed/zinc20_drug_like_test/part.1...</td>\n",
       "      <td>37106974</td>\n",
       "      <td>36237.279297</td>\n",
       "      <td>35.387968</td>\n",
       "    </tr>\n",
       "    <tr>\n",
       "      <th>3</th>\n",
       "      <td>../data/processed/zinc20_drug_like_test/part.5...</td>\n",
       "      <td>36381226</td>\n",
       "      <td>35528.541016</td>\n",
       "      <td>34.695841</td>\n",
       "    </tr>\n",
       "    <tr>\n",
       "      <th>4</th>\n",
       "      <td>../data/processed/zinc20_drug_like_test/part.1...</td>\n",
       "      <td>34520488</td>\n",
       "      <td>33711.414062</td>\n",
       "      <td>32.921303</td>\n",
       "    </tr>\n",
       "  </tbody>\n",
       "</table>\n",
       "</div>"
      ],
      "text/plain": [
       "                                           file_path  size_bytes  \\\n",
       "0  ../data/processed/zinc20_drug_like_test/part.2...    35369380   \n",
       "1  ../data/processed/zinc20_drug_like_test/part.3...    37116570   \n",
       "2  ../data/processed/zinc20_drug_like_test/part.1...    37106974   \n",
       "3  ../data/processed/zinc20_drug_like_test/part.5...    36381226   \n",
       "4  ../data/processed/zinc20_drug_like_test/part.1...    34520488   \n",
       "\n",
       "        size_kb    size_mb  \n",
       "0  34540.410156  33.730869  \n",
       "1  36246.650391  35.397120  \n",
       "2  36237.279297  35.387968  \n",
       "3  35528.541016  34.695841  \n",
       "4  33711.414062  32.921303  "
      ]
     },
     "metadata": {},
     "output_type": "display_data"
    },
    {
     "name": "stdout",
     "output_type": "stream",
     "text": [
      "\n",
      "File size statistics (in MB):\n"
     ]
    },
    {
     "data": {
      "application/vnd.microsoft.datawrangler.viewer.v0+json": {
       "columns": [
        {
         "name": "index",
         "rawType": "object",
         "type": "string"
        },
        {
         "name": "size_mb",
         "rawType": "float64",
         "type": "float"
        }
       ],
       "ref": "cdbc4a95-c507-4b8a-b7b1-d105c4bcf044",
       "rows": [
        [
         "count",
         "719.0"
        ],
        [
         "mean",
         "34.003374711197175"
        ],
        [
         "std",
         "4.616062105746789"
        ],
        [
         "min",
         "0.2779502868652344"
        ],
        [
         "25%",
         "33.020965576171875"
        ],
        [
         "50%",
         "34.083468437194824"
        ],
        [
         "75%",
         "35.558332443237305"
        ],
        [
         "max",
         "61.08575916290283"
        ]
       ],
       "shape": {
        "columns": 1,
        "rows": 8
       }
      },
      "text/plain": [
       "count    719.000000\n",
       "mean      34.003375\n",
       "std        4.616062\n",
       "min        0.277950\n",
       "25%       33.020966\n",
       "50%       34.083468\n",
       "75%       35.558332\n",
       "max       61.085759\n",
       "Name: size_mb, dtype: float64"
      ]
     },
     "metadata": {},
     "output_type": "display_data"
    },
    {
     "name": "stdout",
     "output_type": "stream",
     "text": [
      "\n",
      "Compression ratio compared to original SMI files: 1.85x\n",
      "Original size: 47,406,986,871 bytes (44.15 GB)\n",
      "Compressed size: 25,636,033,179 bytes (23.88 GB)\n"
     ]
    }
   ],
   "source": [
    "# Find all .parquet files in the processed dataset path\n",
    "parquet_path = \"../data/processed/zinc20_drug_like_test/\"\n",
    "parquet_files = list(Path(parquet_path).glob(\"**/*.parquet\"))\n",
    "\n",
    "# Calculate the size of each file\n",
    "file_sizes = [(file, file.stat().st_size) for file in parquet_files]\n",
    "\n",
    "# Create a dataframe to store the results\n",
    "file_size_df = pd.DataFrame(file_sizes, columns=[\"file_path\", \"size_bytes\"])\n",
    "\n",
    "# Add columns for size in KB, MB\n",
    "file_size_df[\"size_kb\"] = file_size_df[\"size_bytes\"] / 1024\n",
    "file_size_df[\"size_mb\"] = file_size_df[\"size_kb\"] / 1024\n",
    "\n",
    "# Calculate total size\n",
    "total_size_bytes = file_size_df[\"size_bytes\"].sum()\n",
    "total_size_mb = total_size_bytes / (1024 * 1024)\n",
    "total_size_gb = total_size_mb / 1024\n",
    "\n",
    "print(f\"Found {len(parquet_files)} .parquet files\")\n",
    "print(f\"Total size: {total_size_bytes:,} bytes ({total_size_mb:.2f} MB, {total_size_gb:.2f} GB)\")\n",
    "\n",
    "# Display the first few files with their sizes\n",
    "print(\"\\nSample of files and their sizes:\")\n",
    "display(file_size_df.head())\n",
    "\n",
    "# Optional: summary statistics of file sizes\n",
    "print(\"\\nFile size statistics (in MB):\")\n",
    "display(file_size_df[\"size_mb\"].describe())\n",
    "\n",
    "# Calculate compression ratio compared to original data\n",
    "if \"smi_files\" in locals() and len(smi_files) > 0:\n",
    "    orig_size_bytes = sum(file.stat().st_size for file in smi_files)\n",
    "    compression_ratio = orig_size_bytes / total_size_bytes if total_size_bytes > 0 else 0\n",
    "    print(f\"\\nCompression ratio compared to original SMI files: {compression_ratio:.2f}x\")\n",
    "    print(f\"Original size: {orig_size_bytes:,} bytes ({orig_size_bytes / (1024 * 1024 * 1024):.2f} GB)\")\n",
    "    print(f\"Compressed size: {total_size_bytes:,} bytes ({total_size_gb:.2f} GB)\")"
   ]
  },
  {
   "cell_type": "code",
   "execution_count": null,
   "id": "672955ed",
   "metadata": {},
   "outputs": [
    {
     "data": {
      "image/png": "[encoded data removed]",
      "text/plain": [
       "<Figure size 1200x600 with 1 Axes>"
      ]
     },
     "metadata": {},
     "output_type": "display_data"
    }
   ],
   "source": [
    "# Set up the plot style\n",
    "plt.figure(figsize=(12, 6))\n",
    "sns.set(style=\"whitegrid\")\n",
    "\n",
    "# Create a histogram of parquet file sizes in MB\n",
    "ax = sns.histplot(file_size_df[\"size_mb\"], bins=20, kde=True)\n",
    "ax.set_title(\"Distribution of ZINC20 Parquet File Sizes using snappy compression and 64 MB chunks\", fontsize=16)\n",
    "ax.set_xlabel(\"File Size (MB)\", fontsize=12)\n",
    "ax.set_ylabel(\"Count\", fontsize=12)\n",
    "\n",
    "# Add vertical line for mean and median\n",
    "mean_size = file_size_df[\"size_mb\"].mean()\n",
    "median_size = file_size_df[\"size_mb\"].median()\n",
    "plt.axvline(mean_size, color=\"r\", linestyle=\"--\", label=f\"Mean: {mean_size:.2f} MB\")\n",
    "plt.axvline(median_size, color=\"g\", linestyle=\"-.\", label=f\"Median: {median_size:.2f} MB\")\n",
    "\n",
    "# Add legend\n",
    "plt.legend()\n",
    "\n",
    "# Show some statistics as text\n",
    "stats_text = (\n",
    "    f\"Total Files: {len(file_size_df)}\\n\"\n",
    "    f\"Total Size: {total_size_gb:.2f} GB\\n\"\n",
    "    f\"Min Size: {file_size_df['size_mb'].min():.2f} MB\\n\"\n",
    "    f\"Max Size: {file_size_df['size_mb'].max():.2f} MB\"\n",
    ")\n",
    "\n",
    "# Add compression ratio information\n",
    "if \"compression_ratio\" in locals():\n",
    "    stats_text += f\"\\nCompression Ratio: {compression_ratio:.2f}x\"\n",
    "\n",
    "plt.annotate(stats_text, xy=(0.75, 0.75), xycoords=\"axes fraction\", bbox={\"boxstyle\": \"round,pad=0.5\", \"fc\": \"white\", \"alpha\": 0.8})\n",
    "\n",
    "plt.tight_layout()\n",
    "plt.show()"
   ]
  },
  {
   "cell_type": "code",
   "execution_count": 27,
   "id": "ee024964",
   "metadata": {},
   "outputs": [],
   "source": [
    "# Find all .parquet files in the processed dataset path\n",
    "parquet_path = \"../data/processed/freedom_space\"\n",
    "parquet_files = list(Path(parquet_path).glob(\"**/*.parquet\"))\n",
    "\n",
    "# Calculate the size of each file\n",
    "file_sizes = [(file, file.stat().st_size) for file in parquet_files]\n",
    "\n",
    "# Create a dataframe to store the results\n",
    "file_size_df = pd.DataFrame(file_sizes, columns=[\"file_path\", \"size_bytes\"])\n",
    "\n",
    "# Add columns for size in KB, MB\n",
    "file_size_df[\"size_kb\"] = file_size_df[\"size_bytes\"] / 1024\n",
    "file_size_df[\"size_mb\"] = file_size_df[\"size_kb\"] / 1024\n",
    "\n",
    "# Calculate total size\n",
    "total_size_bytes = file_size_df[\"size_bytes\"].sum()\n",
    "total_size_mb = total_size_bytes / (1024 * 1024)\n",
    "total_size_gb = total_size_mb / 1024"
   ]
  },
  {
   "cell_type": "code",
   "execution_count": null,
   "id": "0be3c1b0",
   "metadata": {},
   "outputs": [
    {
     "data": {
      "image/png": "[encoded data removed]",
      "text/plain": [
       "<Figure size 1200x600 with 1 Axes>"
      ]
     },
     "metadata": {},
     "output_type": "display_data"
    }
   ],
   "source": [
    "# Set up the plot style\n",
    "plt.figure(figsize=(12, 6))\n",
    "sns.set(style=\"whitegrid\")\n",
    "\n",
    "# Create a histogram of parquet file sizes in MB\n",
    "ax = sns.histplot(file_size_df[\"size_mb\"], bins=20, kde=True)\n",
    "ax.set_title(\n",
    "    \"Distribution of Freedom Space Parquet File Sizes \\n using zstd compression (15 compression level) and 64 MB chunks\", fontsize=16\n",
    ")\n",
    "ax.set_xlabel(\"File Size (MB)\", fontsize=12)\n",
    "ax.set_ylabel(\"Count\", fontsize=12)\n",
    "\n",
    "# Add vertical line for mean and median\n",
    "mean_size = file_size_df[\"size_mb\"].mean()\n",
    "median_size = file_size_df[\"size_mb\"].median()\n",
    "plt.axvline(mean_size, color=\"r\", linestyle=\"--\", label=f\"Mean: {mean_size:.2f} MB\")\n",
    "plt.axvline(median_size, color=\"g\", linestyle=\"-.\", label=f\"Median: {median_size:.2f} MB\")\n",
    "\n",
    "# Add legend\n",
    "plt.legend()\n",
    "\n",
    "# Show some statistics as text\n",
    "stats_text = (\n",
    "    f\"Total Files: {len(file_size_df)}\\n\"\n",
    "    f\"Total Size: {total_size_gb:.2f} GB\\n\"\n",
    "    f\"Min Size: {file_size_df['size_mb'].min():.2f} MB\\n\"\n",
    "    f\"Max Size: {file_size_df['size_mb'].max():.2f} MB\"\n",
    ")\n",
    "\n",
    "\n",
    "plt.annotate(stats_text, xy=(0.75, 0.75), xycoords=\"axes fraction\", bbox={\"boxstyle\": \"round,pad=0.5\", \"fc\": \"white\", \"alpha\": 0.8})\n",
    "\n",
    "plt.tight_layout()\n",
    "plt.show()"
   ]
  },
  {
   "cell_type": "code",
   "execution_count": null,
   "id": "4c47d465",
   "metadata": {},
   "outputs": [],
   "source": [
    "def gzip_compress(file_path: Path | str, output_folder: Path | str, compresslevel: int = 9) -> None:\n",
    "    \"\"\"\n",
    "    Compresses a text file using gzip compression.\n",
    "\n",
    "    Args:\n",
    "        file_path (str|Path): Path to the input text file.\n",
    "        output_folder (str): Path to the output gzip file.\n",
    "        compresslevel (int): Compression level for gzip (1-9, default is 9).\n",
    "    \"\"\"\n",
    "    file_path = Path(file_path) if isinstance(file_path, str) else file_path\n",
    "    output_folder = Path(output_folder) if isinstance(output_folder, str) else output_folder\n",
    "\n",
    "    if not isinstance(file_path, Path):\n",
    "        raise ValueError(\"input_file must be a Path or string object\")\n",
    "    if not isinstance(output_folder, Path):\n",
    "        raise ValueError(\"output_folder must be a Path or string object\")\n",
    "\n",
    "    output_file_path = Path(output_folder) / (file_path.stem + \".gz\")\n",
    "    with file_path.open(\"rb\") as f_in:\n",
    "        with gzip.open(output_file_path, \"wb\", compresslevel=compresslevel) as f_out:\n",
    "            shutil.copyfileobj(f_in, f_out)\n",
    "\n",
    "\n",
    "def benchmark_gzip_compression(input_folder: str, output_folder: str, compresslevel: int = 9):\n",
    "    \"\"\"\n",
    "    Benchmarks gzip compression for a given text file.\n",
    "\n",
    "    Args:\n",
    "        input_file (str): Path to the input text file.\n",
    "        output_file (str): Path to the output gzip file.\n",
    "        compresslevel (int): Compression level for gzip (1-9, default is 9).\n",
    "    \"\"\"\n",
    "    result_dict = {\n",
    "        \"compression\": \"gzip\",\n",
    "        \"compression_level\": compresslevel,\n",
    "        \"duration\": None,\n",
    "        \"input_size\": None,\n",
    "        \"output_size\": None,\n",
    "        \"compression_ratio\": None,\n",
    "    }\n",
    "\n",
    "    start_time = time.time()\n",
    "\n",
    "    # aggregate all  smi files in the input folder\n",
    "    input_file_path = Path(input_folder).glob(\"**/*.smi\")\n",
    "\n",
    "    # create the output folder if it doesn't exist\n",
    "    output_folder = Path(output_folder)\n",
    "    output_folder.mkdir(parents=True, exist_ok=True)\n",
    "\n",
    "    # Compress each file in the input folder\n",
    "    for file_path in input_file_path:\n",
    "        gzip_compress(file_path, output_folder, compresslevel=compresslevel)\n",
    "\n",
    "    result_dict[\"duration\"] = time.time() - start_time\n",
    "    # get size info\n",
    "    result_dict[\"input_size\"] = sum([file.stat().st_size for file in Path(input_folder).glob(\"**/*.smi\")])\n",
    "    result_dict[\"output_size\"] = sum([file.stat().st_size for file in output_folder.glob(\"*.gz\")])\n",
    "    result_dict[\"compression_ratio\"] = result_dict[\"input_size\"] / result_dict[\"output_size\"]\n",
    "\n",
    "    # Clean up the output directory\n",
    "    if output_folder.exists():\n",
    "        shutil.rmtree(output_folder)\n",
    "\n",
    "    return result_dict\n",
    "\n",
    "\n",
    "def benchmark_parralel_gzip_compression(input_folder: str, output_folder: str, compresslevel: int = 9, nb_workers: int = 4):\n",
    "    \"\"\"\n",
    "    Benchmarks gzip compression for a database of smi files in paralel.\n",
    "\n",
    "    Args:\n",
    "        input_file (str): Path to the input text file.\n",
    "        output_file (str): Path to the output gzip file.\n",
    "        compresslevel (int): Compression level for gzip (1-9, default is 9).\n",
    "        nb_workers (int): Number of workers to use for parallel processing.\n",
    "    \"\"\"\n",
    "    result_dict = {\n",
    "        \"compression\": \"gzip\",\n",
    "        \"compression_level\": compresslevel,\n",
    "        \"duration\": None,\n",
    "        \"input_size\": None,\n",
    "        \"output_size\": None,\n",
    "        \"compression_ratio\": None,\n",
    "    }\n",
    "\n",
    "    start_time = time.time()\n",
    "\n",
    "    # aggregate all  smi files in the input folder\n",
    "    input_file_path = Path(input_folder)\n",
    "    input_file_path = input_file_path.glob(\"**/*.smi\")\n",
    "\n",
    "    # create the output folder if it doesn't exist\n",
    "    output_folder = Path(output_folder)\n",
    "    output_folder.mkdir(parents=True, exist_ok=True)\n",
    "\n",
    "    # Create partial function for parallel processing\n",
    "    partial_gzip_compress = partial(gzip_compress, output_folder=output_folder, compresslevel=compresslevel)\n",
    "\n",
    "    # Use multiprocessing to compress files in parallel\n",
    "    with mp.Pool(processes=nb_workers) as pool:\n",
    "        pool.map(partial_gzip_compress, input_file_path)\n",
    "\n",
    "    result_dict[\"duration\"] = time.time() - start_time\n",
    "    result_dict[\"input_size\"] = sum([file.stat().st_size for file in Path(input_folder).glob(\"**/*.smi\")])\n",
    "    result_dict[\"output_size\"] = sum([file.stat().st_size for file in output_folder.glob(\"*.gz\")])\n",
    "    result_dict[\"compression_ratio\"] = result_dict[\"input_size\"] / result_dict[\"output_size\"]\n",
    "\n",
    "    # Clean up the output directory\n",
    "    if output_folder.exists():\n",
    "        shutil.rmtree(output_folder)\n",
    "\n",
    "    return result_dict"
   ]
  },
  {
   "cell_type": "code",
   "execution_count": 6,
   "id": "c54f0248",
   "metadata": {},
   "outputs": [
    {
     "data": {
      "text/plain": [
       "[PosixPath('../data/raw/ZINC20_drug_like/FB/FBAD.smi'),\n",
       " PosixPath('../data/raw/ZINC20_drug_like/GI/GIAD.smi'),\n",
       " PosixPath('../data/raw/ZINC20_drug_like/CG/CGAD.smi'),\n",
       " PosixPath('../data/raw/ZINC20_drug_like/BD/BDAD.smi'),\n",
       " PosixPath('../data/raw/ZINC20_drug_like/FF/FFAD.smi'),\n",
       " PosixPath('../data/raw/ZINC20_drug_like/HB/HBAD.smi'),\n",
       " PosixPath('../data/raw/ZINC20_drug_like/HH/HHAD.smi'),\n",
       " PosixPath('../data/raw/ZINC20_drug_like/HD/HDAD.smi'),\n",
       " PosixPath('../data/raw/ZINC20_drug_like/EJ/EJAD.smi'),\n",
       " PosixPath('../data/raw/ZINC20_drug_like/CH/CHAD.smi'),\n",
       " PosixPath('../data/raw/ZINC20_drug_like/GC/GCAD.smi'),\n",
       " PosixPath('../data/raw/ZINC20_drug_like/BI/BIAD.smi'),\n",
       " PosixPath('../data/raw/ZINC20_drug_like/EH/EHAD.smi'),\n",
       " PosixPath('../data/raw/ZINC20_drug_like/II/IIAD.smi'),\n",
       " PosixPath('../data/raw/ZINC20_drug_like/EB/EBAD.smi'),\n",
       " PosixPath('../data/raw/ZINC20_drug_like/JE/JEAD.smi'),\n",
       " PosixPath('../data/raw/ZINC20_drug_like/IC/ICAD.smi'),\n",
       " PosixPath('../data/raw/ZINC20_drug_like/CA/CAAD.smi'),\n",
       " PosixPath('../data/raw/ZINC20_drug_like/JF/JFAD.smi'),\n",
       " PosixPath('../data/raw/ZINC20_drug_like/EA/EAAD.smi'),\n",
       " PosixPath('../data/raw/ZINC20_drug_like/DB/DBAD.smi'),\n",
       " PosixPath('../data/raw/ZINC20_drug_like/EC/ECAD.smi'),\n",
       " PosixPath('../data/raw/ZINC20_drug_like/JD/JDAD.smi'),\n",
       " PosixPath('../data/raw/ZINC20_drug_like/CI/CIAD.smi'),\n",
       " PosixPath('../data/raw/ZINC20_drug_like/JA/JAAD.smi'),\n",
       " PosixPath('../data/raw/ZINC20_drug_like/CC/CCAD.smi'),\n",
       " PosixPath('../data/raw/ZINC20_drug_like/JC/JCAD.smi'),\n",
       " PosixPath('../data/raw/ZINC20_drug_like/CD/CDAD.smi'),\n",
       " PosixPath('../data/raw/ZINC20_drug_like/GA/GAAD.smi'),\n",
       " PosixPath('../data/raw/ZINC20_drug_like/FJ/FJAD.smi'),\n",
       " PosixPath('../data/raw/ZINC20_drug_like/EI/EIAD.smi'),\n",
       " PosixPath('../data/raw/ZINC20_drug_like/FI/FIAD.smi'),\n",
       " PosixPath('../data/raw/ZINC20_drug_like/CE/CEAD.smi'),\n",
       " PosixPath('../data/raw/ZINC20_drug_like/FD/FDAD.smi'),\n",
       " PosixPath('../data/raw/ZINC20_drug_like/DJ/DJAD.smi'),\n",
       " PosixPath('../data/raw/ZINC20_drug_like/IF/IFAD.smi'),\n",
       " PosixPath('../data/raw/ZINC20_drug_like/IG/IGAD.smi'),\n",
       " PosixPath('../data/raw/ZINC20_drug_like/BH/BHAD.smi'),\n",
       " PosixPath('../data/raw/ZINC20_drug_like/GJ/GJAD.smi'),\n",
       " PosixPath('../data/raw/ZINC20_drug_like/FC/FCAD.smi'),\n",
       " PosixPath('../data/raw/ZINC20_drug_like/HF/HFAD.smi'),\n",
       " PosixPath('../data/raw/ZINC20_drug_like/IJ/IJAD.smi'),\n",
       " PosixPath('../data/raw/ZINC20_drug_like/GB/GBAD.smi'),\n",
       " PosixPath('../data/raw/ZINC20_drug_like/FE/FEAD.smi'),\n",
       " PosixPath('../data/raw/ZINC20_drug_like/HJ/HJAD.smi'),\n",
       " PosixPath('../data/raw/ZINC20_drug_like/HA/HAAD.smi'),\n",
       " PosixPath('../data/raw/ZINC20_drug_like/DC/DCAD.smi'),\n",
       " PosixPath('../data/raw/ZINC20_drug_like/JB/JBAD.smi'),\n",
       " PosixPath('../data/raw/ZINC20_drug_like/FH/FHAD.smi'),\n",
       " PosixPath('../data/raw/ZINC20_drug_like/GF/GFAD.smi'),\n",
       " PosixPath('../data/raw/ZINC20_drug_like/CB/CBAD.smi'),\n",
       " PosixPath('../data/raw/ZINC20_drug_like/BJ/BJAD.smi'),\n",
       " PosixPath('../data/raw/ZINC20_drug_like/JI/JIAD.smi'),\n",
       " PosixPath('../data/raw/ZINC20_drug_like/JJ/JJAD.smi'),\n",
       " PosixPath('../data/raw/ZINC20_drug_like/IH/IHAD.smi'),\n",
       " PosixPath('../data/raw/ZINC20_drug_like/FG/FGAD.smi'),\n",
       " PosixPath('../data/raw/ZINC20_drug_like/CF/CFAD.smi'),\n",
       " PosixPath('../data/raw/ZINC20_drug_like/DF/DFAD.smi'),\n",
       " PosixPath('../data/raw/ZINC20_drug_like/BE/BEAD.smi'),\n",
       " PosixPath('../data/raw/ZINC20_drug_like/BF/BFAD.smi'),\n",
       " PosixPath('../data/raw/ZINC20_drug_like/EF/EFAD.smi'),\n",
       " PosixPath('../data/raw/ZINC20_drug_like/IB/IBAD.smi'),\n",
       " PosixPath('../data/raw/ZINC20_drug_like/DE/DEAD.smi'),\n",
       " PosixPath('../data/raw/ZINC20_drug_like/BA/BAAD.smi'),\n",
       " PosixPath('../data/raw/ZINC20_drug_like/BC/BCAD.smi'),\n",
       " PosixPath('../data/raw/ZINC20_drug_like/JH/JHAD.smi'),\n",
       " PosixPath('../data/raw/ZINC20_drug_like/HG/HGAD.smi'),\n",
       " PosixPath('../data/raw/ZINC20_drug_like/JG/JGAD.smi'),\n",
       " PosixPath('../data/raw/ZINC20_drug_like/BB/BBAD.smi'),\n",
       " PosixPath('../data/raw/ZINC20_drug_like/HE/HEAD.smi'),\n",
       " PosixPath('../data/raw/ZINC20_drug_like/HI/HIAD.smi'),\n",
       " PosixPath('../data/raw/ZINC20_drug_like/ED/EDAD.smi'),\n",
       " PosixPath('../data/raw/ZINC20_drug_like/DD/DDAD.smi'),\n",
       " PosixPath('../data/raw/ZINC20_drug_like/IE/IEAD.smi'),\n",
       " PosixPath('../data/raw/ZINC20_drug_like/EE/EEAD.smi'),\n",
       " PosixPath('../data/raw/ZINC20_drug_like/ID/IDAD.smi'),\n",
       " PosixPath('../data/raw/ZINC20_drug_like/GE/GEAD.smi'),\n",
       " PosixPath('../data/raw/ZINC20_drug_like/DI/DIAD.smi'),\n",
       " PosixPath('../data/raw/ZINC20_drug_like/DA/DAAD.smi'),\n",
       " PosixPath('../data/raw/ZINC20_drug_like/DG/DGAD.smi'),\n",
       " PosixPath('../data/raw/ZINC20_drug_like/HC/HCAD.smi'),\n",
       " PosixPath('../data/raw/ZINC20_drug_like/GH/GHAD.smi'),\n",
       " PosixPath('../data/raw/ZINC20_drug_like/FA/FAAD.smi'),\n",
       " PosixPath('../data/raw/ZINC20_drug_like/BG/BGAD.smi'),\n",
       " PosixPath('../data/raw/ZINC20_drug_like/CJ/CJAD.smi'),\n",
       " PosixPath('../data/raw/ZINC20_drug_like/IA/IAAD.smi'),\n",
       " PosixPath('../data/raw/ZINC20_drug_like/GD/GDAD.smi'),\n",
       " PosixPath('../data/raw/ZINC20_drug_like/EG/EGAD.smi'),\n",
       " PosixPath('../data/raw/ZINC20_drug_like/GG/GGAD.smi'),\n",
       " PosixPath('../data/raw/ZINC20_drug_like/DH/DHAD.smi')]"
      ]
     },
     "execution_count": 6,
     "metadata": {},
     "output_type": "execute_result"
    }
   ],
   "source": [
    "list(Path(\"../data/raw/ZINC20_drug_like/\").glob(\"**/*.smi\"))"
   ]
  },
  {
   "cell_type": "code",
   "execution_count": 8,
   "id": "96417696",
   "metadata": {},
   "outputs": [],
   "source": [
    "gzip_results = []\n",
    "compresslevel = range(1, 10)\n",
    "for level in compresslevel:\n",
    "    result = benchmark_gzip_compression(\n",
    "        \"../data/raw/ZINC20_drug_like/\",\n",
    "        \"../data/processed/zinc20_drug_like/\",\n",
    "        compresslevel=level,\n",
    "    )\n",
    "    gzip_results.append(result)\n",
    "\n",
    "# Convert the benchmark results to a DataFrame\n",
    "benchmark_df = pd.DataFrame(gzip_results)\n",
    "# Save the benchmark results to a CSV file\n",
    "benchmark_df.to_csv(\n",
    "    \"../reports/ZINC20_compression/benchmark_results_text_gzip.csv\",\n",
    "    index=False,\n",
    ")"
   ]
  },
  {
   "cell_type": "code",
   "execution_count": 9,
   "id": "8ce30207",
   "metadata": {},
   "outputs": [],
   "source": [
    "# Benchmark parralel gzip compression with various compression levels and worker counts\n",
    "parralel_gzip_results = []\n",
    "\n",
    "# Try different compression levels\n",
    "compresslevel_range = range(1, 10)\n",
    "worker_counts = [4, 8, 16]  # Different number of workers to test\n",
    "\n",
    "for level in compresslevel_range:\n",
    "    for workers in worker_counts:\n",
    "        # Add a descriptive print to track progress\n",
    "        # print(f\"Benchmarking parallel gzip with level {level} using {workers} workers\")\n",
    "\n",
    "        result = benchmark_parralel_gzip_compression(\n",
    "            \"../data/raw/ZINC20_drug_like/\", \"../data/processed/zinc20_drug_like_parallel/\", compresslevel=level, nb_workers=workers\n",
    "        )\n",
    "        # Add number of workers to the result dictionary\n",
    "        result[\"nb_workers\"] = workers\n",
    "        parralel_gzip_results.append(result)\n",
    "\n",
    "# Convert the benchmark results to a DataFrame\n",
    "parralel_benchmark_df = pd.DataFrame(parralel_gzip_results)\n",
    "\n",
    "# Save the benchmark results to a CSV file\n",
    "parralel_benchmark_df.to_csv(\n",
    "    \"../reports/ZINC20_compression/benchmark_results_text_parralel_gzip.csv\",\n",
    "    index=False,\n",
    ")"
   ]
  }
 ],
 "metadata": {
  "kernelspec": {
   "display_name": "confscale-dev",
   "language": "python",
   "name": "python3"
  },
  "language_info": {
   "codemirror_mode": {
    "name": "ipython",
    "version": 3
   },
   "file_extension": ".py",
   "mimetype": "text/x-python",
   "name": "python",
   "nbconvert_exporter": "python",
   "pygments_lexer": "ipython3",
   "version": "3.13.3"
  }
 },
 "nbformat": 4,
 "nbformat_minor": 5
}
